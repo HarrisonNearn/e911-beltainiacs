{
 "cells": [
  {
   "cell_type": "code",
   "execution_count": 1,
   "id": "a2642bcf",
   "metadata": {},
   "outputs": [],
   "source": [
    "from shapely.geometry import Point\n",
    "import pandas as pd\n",
    "import geopandas as gpd\n",
    "import matplotlib.pyplot as plt\n",
    "import folium\n",
    "from folium.plugins import MarkerCluster\n",
    "from folium.plugins import FastMarkerCluster"
   ]
  },
  {
   "cell_type": "markdown",
   "id": "e41cb1eb",
   "metadata": {},
   "source": [
    "# Metro Nashville Emergency Communications\n",
    "## Tornado and Derecho Analysis"
   ]
  },
  {
   "cell_type": "markdown",
   "id": "51a51357",
   "metadata": {},
   "source": [
    "### derecho csv file"
   ]
  },
  {
   "cell_type": "code",
   "execution_count": 2,
   "id": "9d71d06d",
   "metadata": {},
   "outputs": [
    {
     "data": {
      "text/html": [
       "<div>\n",
       "<style scoped>\n",
       "    .dataframe tbody tr th:only-of-type {\n",
       "        vertical-align: middle;\n",
       "    }\n",
       "\n",
       "    .dataframe tbody tr th {\n",
       "        vertical-align: top;\n",
       "    }\n",
       "\n",
       "    .dataframe thead th {\n",
       "        text-align: right;\n",
       "    }\n",
       "</style>\n",
       "<table border=\"1\" class=\"dataframe\">\n",
       "  <thead>\n",
       "    <tr style=\"text-align: right;\">\n",
       "      <th></th>\n",
       "      <th>Seizure DateTime</th>\n",
       "      <th>CallTypeId</th>\n",
       "      <th>ALI Latitude</th>\n",
       "      <th>ALI Longitude</th>\n",
       "      <th>Cell Tower Address</th>\n",
       "    </tr>\n",
       "  </thead>\n",
       "  <tbody>\n",
       "    <tr>\n",
       "      <th>0</th>\n",
       "      <td>5/3/2020 16:30</td>\n",
       "      <td>911 Calls</td>\n",
       "      <td>36.247802</td>\n",
       "      <td>-86.716847</td>\n",
       "      <td>WIRELESS CALLER</td>\n",
       "    </tr>\n",
       "    <tr>\n",
       "      <th>1</th>\n",
       "      <td>5/3/2020 16:30</td>\n",
       "      <td>911 Calls</td>\n",
       "      <td>36.143108</td>\n",
       "      <td>-86.800621</td>\n",
       "      <td>1161 21ST AV S - SE</td>\n",
       "    </tr>\n",
       "    <tr>\n",
       "      <th>2</th>\n",
       "      <td>5/3/2020 16:30</td>\n",
       "      <td>911 Calls</td>\n",
       "      <td>36.100516</td>\n",
       "      <td>-87.056329</td>\n",
       "      <td>8013 C MCCRORY LN - N</td>\n",
       "    </tr>\n",
       "    <tr>\n",
       "      <th>3</th>\n",
       "      <td>5/3/2020 16:30</td>\n",
       "      <td>911 Calls</td>\n",
       "      <td>36.130021</td>\n",
       "      <td>-86.927819</td>\n",
       "      <td>5758 RIVER RD - SW</td>\n",
       "    </tr>\n",
       "    <tr>\n",
       "      <th>4</th>\n",
       "      <td>5/3/2020 16:31</td>\n",
       "      <td>911 Calls</td>\n",
       "      <td>36.142380</td>\n",
       "      <td>-86.881882</td>\n",
       "      <td>3744B ANNEX AVE - SE</td>\n",
       "    </tr>\n",
       "  </tbody>\n",
       "</table>\n",
       "</div>"
      ],
      "text/plain": [
       "  Seizure DateTime CallTypeId  ALI Latitude  ALI Longitude  \\\n",
       "0   5/3/2020 16:30  911 Calls     36.247802     -86.716847   \n",
       "1   5/3/2020 16:30  911 Calls     36.143108     -86.800621   \n",
       "2   5/3/2020 16:30  911 Calls     36.100516     -87.056329   \n",
       "3   5/3/2020 16:30  911 Calls     36.130021     -86.927819   \n",
       "4   5/3/2020 16:31  911 Calls     36.142380     -86.881882   \n",
       "\n",
       "      Cell Tower Address  \n",
       "0        WIRELESS CALLER  \n",
       "1    1161 21ST AV S - SE  \n",
       "2  8013 C MCCRORY LN - N  \n",
       "3     5758 RIVER RD - SW  \n",
       "4   3744B ANNEX AVE - SE  "
      ]
     },
     "execution_count": 2,
     "metadata": {},
     "output_type": "execute_result"
    }
   ],
   "source": [
    "derecho_calls = pd.read_csv('../data/911_Phone Calls_Derecho_050320_050420.csv')\n",
    "derecho_calls.head()"
   ]
  },
  {
   "cell_type": "code",
   "execution_count": 3,
   "id": "08ac5594",
   "metadata": {},
   "outputs": [
    {
     "name": "stdout",
     "output_type": "stream",
     "text": [
      "<class 'pandas.core.frame.DataFrame'>\n",
      "RangeIndex: 1549 entries, 0 to 1548\n",
      "Data columns (total 5 columns):\n",
      " #   Column              Non-Null Count  Dtype  \n",
      "---  ------              --------------  -----  \n",
      " 0   Seizure DateTime    1549 non-null   object \n",
      " 1   CallTypeId          1549 non-null   object \n",
      " 2   ALI Latitude        1483 non-null   float64\n",
      " 3   ALI Longitude       1483 non-null   float64\n",
      " 4   Cell Tower Address  1525 non-null   object \n",
      "dtypes: float64(2), object(3)\n",
      "memory usage: 60.6+ KB\n"
     ]
    }
   ],
   "source": [
    "derecho_calls.info()"
   ]
  },
  {
   "cell_type": "code",
   "execution_count": 4,
   "id": "f2734677",
   "metadata": {},
   "outputs": [
    {
     "data": {
      "text/html": [
       "<div>\n",
       "<style scoped>\n",
       "    .dataframe tbody tr th:only-of-type {\n",
       "        vertical-align: middle;\n",
       "    }\n",
       "\n",
       "    .dataframe tbody tr th {\n",
       "        vertical-align: top;\n",
       "    }\n",
       "\n",
       "    .dataframe thead th {\n",
       "        text-align: right;\n",
       "    }\n",
       "</style>\n",
       "<table border=\"1\" class=\"dataframe\">\n",
       "  <thead>\n",
       "    <tr style=\"text-align: right;\">\n",
       "      <th></th>\n",
       "      <th>Seizure DateTime</th>\n",
       "      <th>CallTypeId</th>\n",
       "      <th>ALI Latitude</th>\n",
       "      <th>ALI Longitude</th>\n",
       "      <th>Cell Tower Address</th>\n",
       "      <th>geometry</th>\n",
       "    </tr>\n",
       "  </thead>\n",
       "  <tbody>\n",
       "    <tr>\n",
       "      <th>0</th>\n",
       "      <td>5/3/2020 16:30</td>\n",
       "      <td>911 Calls</td>\n",
       "      <td>36.247802</td>\n",
       "      <td>-86.716847</td>\n",
       "      <td>WIRELESS CALLER</td>\n",
       "      <td>POINT (-86.716847 36.247802)</td>\n",
       "    </tr>\n",
       "    <tr>\n",
       "      <th>1</th>\n",
       "      <td>5/3/2020 16:30</td>\n",
       "      <td>911 Calls</td>\n",
       "      <td>36.143108</td>\n",
       "      <td>-86.800621</td>\n",
       "      <td>1161 21ST AV S - SE</td>\n",
       "      <td>POINT (-86.80062100000001 36.143108)</td>\n",
       "    </tr>\n",
       "    <tr>\n",
       "      <th>2</th>\n",
       "      <td>5/3/2020 16:30</td>\n",
       "      <td>911 Calls</td>\n",
       "      <td>36.100516</td>\n",
       "      <td>-87.056329</td>\n",
       "      <td>8013 C MCCRORY LN - N</td>\n",
       "      <td>POINT (-87.05632900000001 36.100516)</td>\n",
       "    </tr>\n",
       "  </tbody>\n",
       "</table>\n",
       "</div>"
      ],
      "text/plain": [
       "  Seizure DateTime CallTypeId  ALI Latitude  ALI Longitude  \\\n",
       "0   5/3/2020 16:30  911 Calls     36.247802     -86.716847   \n",
       "1   5/3/2020 16:30  911 Calls     36.143108     -86.800621   \n",
       "2   5/3/2020 16:30  911 Calls     36.100516     -87.056329   \n",
       "\n",
       "      Cell Tower Address                              geometry  \n",
       "0        WIRELESS CALLER          POINT (-86.716847 36.247802)  \n",
       "1    1161 21ST AV S - SE  POINT (-86.80062100000001 36.143108)  \n",
       "2  8013 C MCCRORY LN - N  POINT (-87.05632900000001 36.100516)  "
      ]
     },
     "execution_count": 4,
     "metadata": {},
     "output_type": "execute_result"
    }
   ],
   "source": [
    "derecho_calls['geometry'] = derecho_calls.apply(lambda x: Point((float(x['ALI Longitude']), \n",
    "                                                         float(x['ALI Latitude']))), \n",
    "                                        axis=1)\n",
    "derecho_calls.head(3)"
   ]
  },
  {
   "cell_type": "code",
   "execution_count": null,
   "id": "713f6cbd",
   "metadata": {},
   "outputs": [],
   "source": []
  },
  {
   "cell_type": "code",
   "execution_count": null,
   "id": "4fa30473",
   "metadata": {},
   "outputs": [],
   "source": []
  },
  {
   "cell_type": "markdown",
   "id": "895fdec2",
   "metadata": {},
   "source": [
    "### tornado csv file"
   ]
  },
  {
   "cell_type": "code",
   "execution_count": 5,
   "id": "86fd215e",
   "metadata": {},
   "outputs": [
    {
     "data": {
      "text/html": [
       "<div>\n",
       "<style scoped>\n",
       "    .dataframe tbody tr th:only-of-type {\n",
       "        vertical-align: middle;\n",
       "    }\n",
       "\n",
       "    .dataframe tbody tr th {\n",
       "        vertical-align: top;\n",
       "    }\n",
       "\n",
       "    .dataframe thead th {\n",
       "        text-align: right;\n",
       "    }\n",
       "</style>\n",
       "<table border=\"1\" class=\"dataframe\">\n",
       "  <thead>\n",
       "    <tr style=\"text-align: right;\">\n",
       "      <th></th>\n",
       "      <th>Seizure DateTime</th>\n",
       "      <th>CallTypeId</th>\n",
       "      <th>ALI Latitude</th>\n",
       "      <th>ALI Longitude</th>\n",
       "      <th>Cell Tower Address</th>\n",
       "    </tr>\n",
       "  </thead>\n",
       "  <tbody>\n",
       "    <tr>\n",
       "      <th>0</th>\n",
       "      <td>3/3/2020 0:34</td>\n",
       "      <td>911 Calls</td>\n",
       "      <td>36.072708</td>\n",
       "      <td>-86.665779</td>\n",
       "      <td>620 Richards RD - N Sector</td>\n",
       "    </tr>\n",
       "    <tr>\n",
       "      <th>1</th>\n",
       "      <td>3/3/2020 0:36</td>\n",
       "      <td>911 Calls</td>\n",
       "      <td>36.159634</td>\n",
       "      <td>-86.841904</td>\n",
       "      <td>4507D KENTUCKY AV - SE</td>\n",
       "    </tr>\n",
       "    <tr>\n",
       "      <th>2</th>\n",
       "      <td>3/3/2020 0:36</td>\n",
       "      <td>911 Calls</td>\n",
       "      <td>36.264153</td>\n",
       "      <td>-86.708862</td>\n",
       "      <td>329 THELMA ST - S Sector</td>\n",
       "    </tr>\n",
       "    <tr>\n",
       "      <th>3</th>\n",
       "      <td>3/3/2020 0:36</td>\n",
       "      <td>911 Calls</td>\n",
       "      <td>NaN</td>\n",
       "      <td>NaN</td>\n",
       "      <td>526 FOUNDRY DR</td>\n",
       "    </tr>\n",
       "    <tr>\n",
       "      <th>4</th>\n",
       "      <td>3/3/2020 0:36</td>\n",
       "      <td>911 Calls</td>\n",
       "      <td>36.233467</td>\n",
       "      <td>-86.721077</td>\n",
       "      <td>5007B RUSKIN AVE - N</td>\n",
       "    </tr>\n",
       "  </tbody>\n",
       "</table>\n",
       "</div>"
      ],
      "text/plain": [
       "  Seizure DateTime CallTypeId  ALI Latitude  ALI Longitude  \\\n",
       "0    3/3/2020 0:34  911 Calls     36.072708     -86.665779   \n",
       "1    3/3/2020 0:36  911 Calls     36.159634     -86.841904   \n",
       "2    3/3/2020 0:36  911 Calls     36.264153     -86.708862   \n",
       "3    3/3/2020 0:36  911 Calls           NaN            NaN   \n",
       "4    3/3/2020 0:36  911 Calls     36.233467     -86.721077   \n",
       "\n",
       "           Cell Tower Address  \n",
       "0  620 Richards RD - N Sector  \n",
       "1      4507D KENTUCKY AV - SE  \n",
       "2    329 THELMA ST - S Sector  \n",
       "3              526 FOUNDRY DR  \n",
       "4        5007B RUSKIN AVE - N  "
      ]
     },
     "execution_count": 5,
     "metadata": {},
     "output_type": "execute_result"
    }
   ],
   "source": [
    "tornado_calls = pd.read_csv('../data/911_Phone_Calls_Tornado_030320.csv')\n",
    "tornado_calls.head()"
   ]
  },
  {
   "cell_type": "code",
   "execution_count": 6,
   "id": "caf9bfba",
   "metadata": {},
   "outputs": [
    {
     "name": "stdout",
     "output_type": "stream",
     "text": [
      "<class 'pandas.core.frame.DataFrame'>\n",
      "RangeIndex: 475 entries, 0 to 474\n",
      "Data columns (total 5 columns):\n",
      " #   Column              Non-Null Count  Dtype  \n",
      "---  ------              --------------  -----  \n",
      " 0   Seizure DateTime    475 non-null    object \n",
      " 1   CallTypeId          475 non-null    object \n",
      " 2   ALI Latitude        450 non-null    float64\n",
      " 3   ALI Longitude       450 non-null    float64\n",
      " 4   Cell Tower Address  468 non-null    object \n",
      "dtypes: float64(2), object(3)\n",
      "memory usage: 18.7+ KB\n"
     ]
    }
   ],
   "source": [
    "tornado_calls.info()"
   ]
  },
  {
   "cell_type": "code",
   "execution_count": 7,
   "id": "2f84beb4",
   "metadata": {},
   "outputs": [
    {
     "data": {
      "text/html": [
       "<div>\n",
       "<style scoped>\n",
       "    .dataframe tbody tr th:only-of-type {\n",
       "        vertical-align: middle;\n",
       "    }\n",
       "\n",
       "    .dataframe tbody tr th {\n",
       "        vertical-align: top;\n",
       "    }\n",
       "\n",
       "    .dataframe thead th {\n",
       "        text-align: right;\n",
       "    }\n",
       "</style>\n",
       "<table border=\"1\" class=\"dataframe\">\n",
       "  <thead>\n",
       "    <tr style=\"text-align: right;\">\n",
       "      <th></th>\n",
       "      <th>Seizure DateTime</th>\n",
       "      <th>CallTypeId</th>\n",
       "      <th>ALI Latitude</th>\n",
       "      <th>ALI Longitude</th>\n",
       "      <th>Cell Tower Address</th>\n",
       "      <th>geometry</th>\n",
       "    </tr>\n",
       "  </thead>\n",
       "  <tbody>\n",
       "    <tr>\n",
       "      <th>0</th>\n",
       "      <td>3/3/2020 0:34</td>\n",
       "      <td>911 Calls</td>\n",
       "      <td>36.072708</td>\n",
       "      <td>-86.665779</td>\n",
       "      <td>620 Richards RD - N Sector</td>\n",
       "      <td>POINT (-86.665779 36.072708)</td>\n",
       "    </tr>\n",
       "    <tr>\n",
       "      <th>1</th>\n",
       "      <td>3/3/2020 0:36</td>\n",
       "      <td>911 Calls</td>\n",
       "      <td>36.159634</td>\n",
       "      <td>-86.841904</td>\n",
       "      <td>4507D KENTUCKY AV - SE</td>\n",
       "      <td>POINT (-86.841904 36.159634)</td>\n",
       "    </tr>\n",
       "    <tr>\n",
       "      <th>2</th>\n",
       "      <td>3/3/2020 0:36</td>\n",
       "      <td>911 Calls</td>\n",
       "      <td>36.264153</td>\n",
       "      <td>-86.708862</td>\n",
       "      <td>329 THELMA ST - S Sector</td>\n",
       "      <td>POINT (-86.708862 36.264153)</td>\n",
       "    </tr>\n",
       "  </tbody>\n",
       "</table>\n",
       "</div>"
      ],
      "text/plain": [
       "  Seizure DateTime CallTypeId  ALI Latitude  ALI Longitude  \\\n",
       "0    3/3/2020 0:34  911 Calls     36.072708     -86.665779   \n",
       "1    3/3/2020 0:36  911 Calls     36.159634     -86.841904   \n",
       "2    3/3/2020 0:36  911 Calls     36.264153     -86.708862   \n",
       "\n",
       "           Cell Tower Address                      geometry  \n",
       "0  620 Richards RD - N Sector  POINT (-86.665779 36.072708)  \n",
       "1      4507D KENTUCKY AV - SE  POINT (-86.841904 36.159634)  \n",
       "2    329 THELMA ST - S Sector  POINT (-86.708862 36.264153)  "
      ]
     },
     "execution_count": 7,
     "metadata": {},
     "output_type": "execute_result"
    }
   ],
   "source": [
    "tornado_calls['geometry'] = tornado_calls.apply(lambda x: Point((float(x['ALI Longitude']), \n",
    "                                                         float(x['ALI Latitude']))), \n",
    "                                        axis=1)\n",
    "tornado_calls.head(3)"
   ]
  },
  {
   "cell_type": "code",
   "execution_count": 17,
   "id": "d1202ac1",
   "metadata": {},
   "outputs": [
    {
     "data": {
      "text/plain": [
       "<Geographic 2D CRS: EPSG:4326>\n",
       "Name: WGS 84\n",
       "Axis Info [ellipsoidal]:\n",
       "- Lat[north]: Geodetic latitude (degree)\n",
       "- Lon[east]: Geodetic longitude (degree)\n",
       "Area of Use:\n",
       "- name: World\n",
       "- bounds: (-180.0, -90.0, 180.0, 90.0)\n",
       "Datum: World Geodetic System 1984\n",
       "- Ellipsoid: WGS 84\n",
       "- Prime Meridian: Greenwich"
      ]
     },
     "execution_count": 17,
     "metadata": {},
     "output_type": "execute_result"
    }
   ],
   "source": [
    "path.crs"
   ]
  },
  {
   "cell_type": "code",
   "execution_count": 18,
   "id": "0842b05a",
   "metadata": {},
   "outputs": [],
   "source": [
    "tornado_calls_geo = gpd.GeoDataFrame(tornado_calls,\n",
    "                                     crs = path.crs,\n",
    "                                     geometry = tornado_calls['geometry'])"
   ]
  },
  {
   "cell_type": "code",
   "execution_count": 19,
   "id": "a6579dd0",
   "metadata": {},
   "outputs": [
    {
     "data": {
      "text/plain": [
       "geopandas.geodataframe.GeoDataFrame"
      ]
     },
     "execution_count": 19,
     "metadata": {},
     "output_type": "execute_result"
    }
   ],
   "source": [
    "type(tornado_calls_geo)"
   ]
  },
  {
   "cell_type": "code",
   "execution_count": 20,
   "id": "dba89e19",
   "metadata": {},
   "outputs": [
    {
     "name": "stdout",
     "output_type": "stream",
     "text": [
      "<class 'geopandas.geodataframe.GeoDataFrame'>\n",
      "RangeIndex: 475 entries, 0 to 474\n",
      "Data columns (total 6 columns):\n",
      " #   Column              Non-Null Count  Dtype   \n",
      "---  ------              --------------  -----   \n",
      " 0   Seizure DateTime    475 non-null    object  \n",
      " 1   CallTypeId          475 non-null    object  \n",
      " 2   ALI Latitude        450 non-null    float64 \n",
      " 3   ALI Longitude       450 non-null    float64 \n",
      " 4   Cell Tower Address  468 non-null    object  \n",
      " 5   geometry            475 non-null    geometry\n",
      "dtypes: float64(2), geometry(1), object(3)\n",
      "memory usage: 22.4+ KB\n"
     ]
    }
   ],
   "source": [
    "tornado_calls_geo.info()"
   ]
  },
  {
   "cell_type": "code",
   "execution_count": 21,
   "id": "d636904d",
   "metadata": {},
   "outputs": [],
   "source": [
    "tornado_path = gpd.sjoin(tornado_calls_geo, path, op = 'within')"
   ]
  },
  {
   "cell_type": "code",
   "execution_count": 22,
   "id": "2dc0ec1b",
   "metadata": {},
   "outputs": [
    {
     "data": {
      "text/html": [
       "<div>\n",
       "<style scoped>\n",
       "    .dataframe tbody tr th:only-of-type {\n",
       "        vertical-align: middle;\n",
       "    }\n",
       "\n",
       "    .dataframe tbody tr th {\n",
       "        vertical-align: top;\n",
       "    }\n",
       "\n",
       "    .dataframe thead th {\n",
       "        text-align: right;\n",
       "    }\n",
       "</style>\n",
       "<table border=\"1\" class=\"dataframe\">\n",
       "  <thead>\n",
       "    <tr style=\"text-align: right;\">\n",
       "      <th></th>\n",
       "      <th>Seizure DateTime</th>\n",
       "      <th>CallTypeId</th>\n",
       "      <th>ALI Latitude</th>\n",
       "      <th>ALI Longitude</th>\n",
       "      <th>Cell Tower Address</th>\n",
       "      <th>geometry</th>\n",
       "      <th>index_right</th>\n",
       "      <th>efscale</th>\n",
       "    </tr>\n",
       "  </thead>\n",
       "  <tbody>\n",
       "    <tr>\n",
       "      <th>6</th>\n",
       "      <td>3/3/2020 0:37</td>\n",
       "      <td>911 Calls</td>\n",
       "      <td>36.175811</td>\n",
       "      <td>-86.895654</td>\n",
       "      <td>WIRELESS CALLER</td>\n",
       "      <td>POINT (-86.89565 36.17581)</td>\n",
       "      <td>4</td>\n",
       "      <td>EF0</td>\n",
       "    </tr>\n",
       "    <tr>\n",
       "      <th>7</th>\n",
       "      <td>3/3/2020 0:37</td>\n",
       "      <td>911 Calls</td>\n",
       "      <td>36.180500</td>\n",
       "      <td>-86.883681</td>\n",
       "      <td>WIRELESS CALLER</td>\n",
       "      <td>POINT (-86.88368 36.18050)</td>\n",
       "      <td>4</td>\n",
       "      <td>EF0</td>\n",
       "    </tr>\n",
       "    <tr>\n",
       "      <th>11</th>\n",
       "      <td>3/3/2020 0:39</td>\n",
       "      <td>911 Calls</td>\n",
       "      <td>36.173183</td>\n",
       "      <td>-86.797335</td>\n",
       "      <td>907 12TH AV N - N</td>\n",
       "      <td>POINT (-86.79734 36.17318)</td>\n",
       "      <td>4</td>\n",
       "      <td>EF0</td>\n",
       "    </tr>\n",
       "    <tr>\n",
       "      <th>19</th>\n",
       "      <td>3/3/2020 0:41</td>\n",
       "      <td>911 Calls</td>\n",
       "      <td>36.175361</td>\n",
       "      <td>-86.782658</td>\n",
       "      <td>500 5TH AV - SECTOR NE N</td>\n",
       "      <td>POINT (-86.78266 36.17536)</td>\n",
       "      <td>4</td>\n",
       "      <td>EF0</td>\n",
       "    </tr>\n",
       "    <tr>\n",
       "      <th>21</th>\n",
       "      <td>3/3/2020 0:41</td>\n",
       "      <td>911 Calls</td>\n",
       "      <td>36.170395</td>\n",
       "      <td>-86.801689</td>\n",
       "      <td>1409 E E JEFFERSON ST - N Sector</td>\n",
       "      <td>POINT (-86.80169 36.17039)</td>\n",
       "      <td>4</td>\n",
       "      <td>EF0</td>\n",
       "    </tr>\n",
       "  </tbody>\n",
       "</table>\n",
       "</div>"
      ],
      "text/plain": [
       "   Seizure DateTime CallTypeId  ALI Latitude  ALI Longitude  \\\n",
       "6     3/3/2020 0:37  911 Calls     36.175811     -86.895654   \n",
       "7     3/3/2020 0:37  911 Calls     36.180500     -86.883681   \n",
       "11    3/3/2020 0:39  911 Calls     36.173183     -86.797335   \n",
       "19    3/3/2020 0:41  911 Calls     36.175361     -86.782658   \n",
       "21    3/3/2020 0:41  911 Calls     36.170395     -86.801689   \n",
       "\n",
       "                  Cell Tower Address                    geometry  index_right  \\\n",
       "6                    WIRELESS CALLER  POINT (-86.89565 36.17581)            4   \n",
       "7                    WIRELESS CALLER  POINT (-86.88368 36.18050)            4   \n",
       "11                 907 12TH AV N - N  POINT (-86.79734 36.17318)            4   \n",
       "19          500 5TH AV - SECTOR NE N  POINT (-86.78266 36.17536)            4   \n",
       "21  1409 E E JEFFERSON ST - N Sector  POINT (-86.80169 36.17039)            4   \n",
       "\n",
       "   efscale  \n",
       "6      EF0  \n",
       "7      EF0  \n",
       "11     EF0  \n",
       "19     EF0  \n",
       "21     EF0  "
      ]
     },
     "execution_count": 22,
     "metadata": {},
     "output_type": "execute_result"
    }
   ],
   "source": [
    "tornado_path.head()"
   ]
  },
  {
   "cell_type": "code",
   "execution_count": 23,
   "id": "005d0aa6",
   "metadata": {},
   "outputs": [
    {
     "data": {
      "image/png": "[encoded data removed]",
      "text/plain": [
       "<Figure size 576x720 with 1 Axes>"
      ]
     },
     "metadata": {
      "needs_background": "light"
     },
     "output_type": "display_data"
    }
   ],
   "source": [
    "ax = path.plot(figsize = (8, 10), color = 'lightgreen')\n",
    "tornado_path.plot( ax = ax, column = 'CallTypeId');"
   ]
  },
  {
   "cell_type": "code",
   "execution_count": 24,
   "id": "4fc789ab",
   "metadata": {},
   "outputs": [
    {
     "name": "stderr",
     "output_type": "stream",
     "text": [
      "C:\\Users\\Patrick\\AppData\\Local\\Temp/ipykernel_33080/223335599.py:1: UserWarning: Geometry is in a geographic CRS. Results from 'centroid' are likely incorrect. Use 'GeoSeries.to_crs()' to re-project geometries to a projected CRS before this operation.\n",
      "\n",
      "  path.geometry.centroid\n"
     ]
    },
    {
     "data": {
      "text/plain": [
       "0     POINT (-85.58051 36.17637)\n",
       "1     POINT (-85.52194 36.17181)\n",
       "2     POINT (-85.57659 36.17520)\n",
       "3     POINT (-85.55155 36.17395)\n",
       "4     POINT (-86.44245 36.18304)\n",
       "5     POINT (-84.76979 36.12643)\n",
       "6     POINT (-86.30432 36.85182)\n",
       "7     POINT (-87.59325 32.68826)\n",
       "8     POINT (-86.99875 32.86394)\n",
       "9     POINT (-87.00212 32.86428)\n",
       "10    POINT (-86.30965 36.19269)\n",
       "11    POINT (-86.56985 36.17644)\n",
       "12    POINT (-86.75082 36.17636)\n",
       "13    POINT (-86.52102 36.18248)\n",
       "14    POINT (-86.55658 36.17715)\n",
       "15    POINT (-86.60012 36.18011)\n",
       "16    POINT (-86.58591 36.17805)\n",
       "17    POINT (-86.47368 36.18450)\n",
       "18    POINT (-86.43360 36.18592)\n",
       "19    POINT (-86.46818 36.18489)\n",
       "20    POINT (-86.64679 36.18385)\n",
       "21    POINT (-86.77344 36.17640)\n",
       "22    POINT (-86.78973 36.17465)\n",
       "23    POINT (-86.47697 36.18356)\n",
       "24    POINT (-86.62464 36.18300)\n",
       "25    POINT (-85.58658 36.17388)\n",
       "26    POINT (-86.74060 36.17558)\n",
       "27    POINT (-86.82236 36.17547)\n",
       "28    POINT (-86.80501 36.17459)\n",
       "29    POINT (-86.87804 36.17677)\n",
       "30    POINT (-86.67528 36.17883)\n",
       "31    POINT (-86.17383 36.19210)\n",
       "32    POINT (-86.53895 36.17849)\n",
       "33    POINT (-86.35900 36.18758)\n",
       "34    POINT (-86.27221 36.19359)\n",
       "35    POINT (-85.58157 36.17666)\n",
       "36    POINT (-85.57741 36.17557)\n",
       "dtype: geometry"
      ]
     },
     "execution_count": 24,
     "metadata": {},
     "output_type": "execute_result"
    }
   ],
   "source": [
    "path.geometry.centroid"
   ]
  },
  {
   "cell_type": "code",
   "execution_count": 25,
   "id": "506f1627",
   "metadata": {},
   "outputs": [
    {
     "name": "stdout",
     "output_type": "stream",
     "text": [
      "POINT (-86.43360103332883 36.18591898648616)\n"
     ]
    },
    {
     "name": "stderr",
     "output_type": "stream",
     "text": [
      "C:\\Users\\Patrick\\AppData\\Local\\Temp/ipykernel_33080/1199352813.py:1: UserWarning: Geometry is in a geographic CRS. Results from 'centroid' are likely incorrect. Use 'GeoSeries.to_crs()' to re-project geometries to a projected CRS before this operation.\n",
      "\n",
      "  center = path.geometry.centroid[18]\n"
     ]
    }
   ],
   "source": [
    "center = path.geometry.centroid[18]\n",
    "print(center)"
   ]
  },
  {
   "cell_type": "code",
   "execution_count": 26,
   "id": "2d47152a",
   "metadata": {},
   "outputs": [
    {
     "name": "stdout",
     "output_type": "stream",
     "text": [
      "[36.185918986486165, -86.43360103332883]\n"
     ]
    }
   ],
   "source": [
    "area_center = [center.y, center.x]\n",
    "print(area_center)"
   ]
  },
  {
   "cell_type": "code",
   "execution_count": 27,
   "id": "dbdef3e8",
   "metadata": {},
   "outputs": [
    {
     "name": "stdout",
     "output_type": "stream",
     "text": [
      "<class 'geopandas.geodataframe.GeoDataFrame'>\n",
      "RangeIndex: 475 entries, 0 to 474\n",
      "Data columns (total 6 columns):\n",
      " #   Column              Non-Null Count  Dtype   \n",
      "---  ------              --------------  -----   \n",
      " 0   Seizure DateTime    475 non-null    object  \n",
      " 1   CallTypeId          475 non-null    object  \n",
      " 2   ALI Latitude        450 non-null    float64 \n",
      " 3   ALI Longitude       450 non-null    float64 \n",
      " 4   Cell Tower Address  468 non-null    object  \n",
      " 5   geometry            475 non-null    geometry\n",
      "dtypes: float64(2), geometry(1), object(3)\n",
      "memory usage: 22.4+ KB\n"
     ]
    }
   ],
   "source": [
    "tornado_calls_geo.info()"
   ]
  },
  {
   "cell_type": "code",
   "execution_count": 28,
   "id": "a4de68d9",
   "metadata": {},
   "outputs": [
    {
     "data": {
      "text/html": [
       "<div style=\"width:100%;\"><div style=\"position:relative;width:100%;height:0;padding-bottom:60%;\"><span style=\"color:#565656\">Make this Notebook Trusted to load map: File -> Trust Notebook</span><iframe src=\"about:blank\" style=\"position:absolute;width:100%;height:100%;left:0;top:0;border:none !important;\" data-html=%3C%21DOCTYPE%20html%3E%0A%3Chead%3E%20%20%20%20%0A%20%20%20%20%3Cmeta%20http-equiv%3D%22content-type%22%20content%3D%22text/html%3B%20charset%3DUTF-8%22%20/%3E%0A%20%20%20%20%0A%20%20%20%20%20%20%20%20%3Cscript%3E%0A%20%20%20%20%20%20%20%20%20%20%20%20L_NO_TOUCH%20%3D%20false%3B%0A%20%20%20%20%20%20%20%20%20%20%20%20L_DISABLE_3D%20%3D%20false%3B%0A%20%20%20%20%20%20%20%20%3C/script%3E%0A%20%20%20%20%0A%20%20%20%20%3Cscript%20src%3D%22https%3A//cdn.jsdelivr.net/npm/leaflet%401.6.0/dist/leaflet.js%22%3E%3C/script%3E%0A%20%20%20%20%3Cscript%20src%3D%22https%3A//code.jquery.com/jquery-1.12.4.min.js%22%3E%3C/script%3E%0A%20%20%20%20%3Cscript%20src%3D%22https%3A//maxcdn.bootstrapcdn.com/bootstrap/3.2.0/js/bootstrap.min.js%22%3E%3C/script%3E%0A%20%20%20%20%3Cscript%20src%3D%22https%3A//cdnjs.cloudflare.com/ajax/libs/Leaflet.awesome-markers/2.0.2/leaflet.awesome-markers.js%22%3E%3C/script%3E%0A%20%20%20%20%3Clink%20rel%3D%22stylesheet%22%20href%3D%22https%3A//cdn.jsdelivr.net/npm/leaflet%401.6.0/dist/leaflet.css%22/%3E%0A%20%20%20%20%3Clink%20rel%3D%22stylesheet%22%20href%3D%22https%3A//maxcdn.bootstrapcdn.com/bootstrap/3.2.0/css/bootstrap.min.css%22/%3E%0A%20%20%20%20%3Clink%20rel%3D%22stylesheet%22%20href%3D%22https%3A//maxcdn.bootstrapcdn.com/bootstrap/3.2.0/css/bootstrap-theme.min.css%22/%3E%0A%20%20%20%20%3Clink%20rel%3D%22stylesheet%22%20href%3D%22https%3A//maxcdn.bootstrapcdn.com/font-awesome/4.6.3/css/font-awesome.min.css%22/%3E%0A%20%20%20%20%3Clink%20rel%3D%22stylesheet%22%20href%3D%22https%3A//cdnjs.cloudflare.com/ajax/libs/Leaflet.awesome-markers/2.0.2/leaflet.awesome-markers.css%22/%3E%0A%20%20%20%20%3Clink%20rel%3D%22stylesheet%22%20href%3D%22https%3A//rawcdn.githack.com/python-visualization/folium/master/folium/templates/leaflet.awesome.rotate.css%22/%3E%0A%20%20%20%20%3Cstyle%3Ehtml%2C%20body%20%7Bwidth%3A%20100%25%3Bheight%3A%20100%25%3Bmargin%3A%200%3Bpadding%3A%200%3B%7D%3C/style%3E%0A%20%20%20%20%3Cstyle%3E%23map%20%7Bposition%3Aabsolute%3Btop%3A0%3Bbottom%3A0%3Bright%3A0%3Bleft%3A0%3B%7D%3C/style%3E%0A%20%20%20%20%0A%20%20%20%20%20%20%20%20%20%20%20%20%3Cmeta%20name%3D%22viewport%22%20content%3D%22width%3Ddevice-width%2C%0A%20%20%20%20%20%20%20%20%20%20%20%20%20%20%20%20initial-scale%3D1.0%2C%20maximum-scale%3D1.0%2C%20user-scalable%3Dno%22%20/%3E%0A%20%20%20%20%20%20%20%20%20%20%20%20%3Cstyle%3E%0A%20%20%20%20%20%20%20%20%20%20%20%20%20%20%20%20%23map_34fd97bfc2ef4b35bae8f5d787fbc8ba%20%7B%0A%20%20%20%20%20%20%20%20%20%20%20%20%20%20%20%20%20%20%20%20position%3A%20relative%3B%0A%20%20%20%20%20%20%20%20%20%20%20%20%20%20%20%20%20%20%20%20width%3A%20100.0%25%3B%0A%20%20%20%20%20%20%20%20%20%20%20%20%20%20%20%20%20%20%20%20height%3A%20100.0%25%3B%0A%20%20%20%20%20%20%20%20%20%20%20%20%20%20%20%20%20%20%20%20left%3A%200.0%25%3B%0A%20%20%20%20%20%20%20%20%20%20%20%20%20%20%20%20%20%20%20%20top%3A%200.0%25%3B%0A%20%20%20%20%20%20%20%20%20%20%20%20%20%20%20%20%7D%0A%20%20%20%20%20%20%20%20%20%20%20%20%3C/style%3E%0A%20%20%20%20%20%20%20%20%0A%3C/head%3E%0A%3Cbody%3E%20%20%20%20%0A%20%20%20%20%0A%20%20%20%20%20%20%20%20%20%20%20%20%3Cdiv%20class%3D%22folium-map%22%20id%3D%22map_34fd97bfc2ef4b35bae8f5d787fbc8ba%22%20%3E%3C/div%3E%0A%20%20%20%20%20%20%20%20%0A%3C/body%3E%0A%3Cscript%3E%20%20%20%20%0A%20%20%20%20%0A%20%20%20%20%20%20%20%20%20%20%20%20var%20map_34fd97bfc2ef4b35bae8f5d787fbc8ba%20%3D%20L.map%28%0A%20%20%20%20%20%20%20%20%20%20%20%20%20%20%20%20%22map_34fd97bfc2ef4b35bae8f5d787fbc8ba%22%2C%0A%20%20%20%20%20%20%20%20%20%20%20%20%20%20%20%20%7B%0A%20%20%20%20%20%20%20%20%20%20%20%20%20%20%20%20%20%20%20%20center%3A%20%5B36.185918986486165%2C%20-86.43360103332883%5D%2C%0A%20%20%20%20%20%20%20%20%20%20%20%20%20%20%20%20%20%20%20%20crs%3A%20L.CRS.EPSG3857%2C%0A%20%20%20%20%20%20%20%20%20%20%20%20%20%20%20%20%20%20%20%20zoom%3A%2012%2C%0A%20%20%20%20%20%20%20%20%20%20%20%20%20%20%20%20%20%20%20%20zoomControl%3A%20true%2C%0A%20%20%20%20%20%20%20%20%20%20%20%20%20%20%20%20%20%20%20%20preferCanvas%3A%20false%2C%0A%20%20%20%20%20%20%20%20%20%20%20%20%20%20%20%20%7D%0A%20%20%20%20%20%20%20%20%20%20%20%20%29%3B%0A%0A%20%20%20%20%20%20%20%20%20%20%20%20%0A%0A%20%20%20%20%20%20%20%20%0A%20%20%20%20%0A%20%20%20%20%20%20%20%20%20%20%20%20var%20tile_layer_3b600516c7394d7bad8a1c374a6e6963%20%3D%20L.tileLayer%28%0A%20%20%20%20%20%20%20%20%20%20%20%20%20%20%20%20%22https%3A//%7Bs%7D.tile.openstreetmap.org/%7Bz%7D/%7Bx%7D/%7By%7D.png%22%2C%0A%20%20%20%20%20%20%20%20%20%20%20%20%20%20%20%20%7B%22attribution%22%3A%20%22Data%20by%20%5Cu0026copy%3B%20%5Cu003ca%20href%3D%5C%22http%3A//openstreetmap.org%5C%22%5Cu003eOpenStreetMap%5Cu003c/a%5Cu003e%2C%20under%20%5Cu003ca%20href%3D%5C%22http%3A//www.openstreetmap.org/copyright%5C%22%5Cu003eODbL%5Cu003c/a%5Cu003e.%22%2C%20%22detectRetina%22%3A%20false%2C%20%22maxNativeZoom%22%3A%2018%2C%20%22maxZoom%22%3A%2018%2C%20%22minZoom%22%3A%200%2C%20%22noWrap%22%3A%20false%2C%20%22opacity%22%3A%201%2C%20%22subdomains%22%3A%20%22abc%22%2C%20%22tms%22%3A%20false%7D%0A%20%20%20%20%20%20%20%20%20%20%20%20%29.addTo%28map_34fd97bfc2ef4b35bae8f5d787fbc8ba%29%3B%0A%20%20%20%20%20%20%20%20%0A%3C/script%3E onload=\"this.contentDocument.open();this.contentDocument.write(    decodeURIComponent(this.getAttribute('data-html')));this.contentDocument.close();\" allowfullscreen webkitallowfullscreen mozallowfullscreen></iframe></div></div>"
      ],
      "text/plain": [
       "<folium.folium.Map at 0x20fb4727af0>"
      ]
     },
     "execution_count": 28,
     "metadata": {},
     "output_type": "execute_result"
    }
   ],
   "source": [
    "tornado_path_map = folium.Map(location =  area_center, zoom_start = 12)\n",
    "tornado_path_map"
   ]
  },
  {
   "cell_type": "code",
   "execution_count": 30,
   "id": "183202ad",
   "metadata": {},
   "outputs": [
    {
     "name": "stdout",
     "output_type": "stream",
     "text": [
      "index is 0\n",
      "values are:\n",
      " \n",
      "Seizure DateTime                     3/3/2020 0:34\n",
      "CallTypeId                               911 Calls\n",
      "ALI Latitude                             36.072708\n",
      "ALI Longitude                           -86.665779\n",
      "Cell Tower Address      620 Richards RD - N Sector\n",
      "geometry              POINT (-86.665779 36.072708)\n",
      "Name: 0, dtype: object\n",
      "------------------------- \n",
      "index is 1\n",
      "values are:\n",
      " \n",
      "Seizure DateTime                     3/3/2020 0:36\n",
      "CallTypeId                               911 Calls\n",
      "ALI Latitude                             36.159634\n",
      "ALI Longitude                           -86.841904\n",
      "Cell Tower Address          4507D KENTUCKY AV - SE\n",
      "geometry              POINT (-86.841904 36.159634)\n",
      "Name: 1, dtype: object\n",
      "------------------------- \n",
      "index is 2\n",
      "values are:\n",
      " \n",
      "Seizure DateTime                     3/3/2020 0:36\n",
      "CallTypeId                               911 Calls\n",
      "ALI Latitude                             36.264153\n",
      "ALI Longitude                           -86.708862\n",
      "Cell Tower Address        329 THELMA ST - S Sector\n",
      "geometry              POINT (-86.708862 36.264153)\n",
      "Name: 2, dtype: object\n",
      "------------------------- \n"
     ]
    }
   ],
   "source": [
    "i = 0\n",
    "for row_index, row_values in tornado_calls_geo.iterrows():\n",
    "    if i <3: \n",
    "        print('index is', row_index)\n",
    "        print('values are:')\n",
    "        print(' ')\n",
    "        print(row_values)\n",
    "        print('------------------------- ')\n",
    "        i+=1"
   ]
  },
  {
   "cell_type": "code",
   "execution_count": 34,
   "id": "3e8d925f",
   "metadata": {},
   "outputs": [
    {
     "ename": "TypeError",
     "evalue": "'int' object is not subscriptable",
     "output_type": "error",
     "traceback": [
      "\u001b[1;31m---------------------------------------------------------------------------\u001b[0m",
      "\u001b[1;31mTypeError\u001b[0m                                 Traceback (most recent call last)",
      "\u001b[1;32m~\\AppData\\Local\\Temp/ipykernel_33080/1179539235.py\u001b[0m in \u001b[0;36m<module>\u001b[1;34m\u001b[0m\n\u001b[0;32m      4\u001b[0m \u001b[1;33m\u001b[0m\u001b[0m\n\u001b[0;32m      5\u001b[0m \u001b[1;32mfor\u001b[0m \u001b[0mrow_values\u001b[0m\u001b[1;33m,\u001b[0m \u001b[0mrow_index\u001b[0m \u001b[1;32min\u001b[0m \u001b[0mtornado_calls_geo\u001b[0m\u001b[1;33m.\u001b[0m\u001b[0miterrows\u001b[0m\u001b[1;33m(\u001b[0m\u001b[1;33m)\u001b[0m\u001b[1;33m:\u001b[0m\u001b[1;33m\u001b[0m\u001b[1;33m\u001b[0m\u001b[0m\n\u001b[1;32m----> 6\u001b[1;33m     \u001b[0mloc\u001b[0m \u001b[1;33m=\u001b[0m \u001b[0mrow_values\u001b[0m\u001b[1;33m[\u001b[0m\u001b[1;34m'ALI Longitude'\u001b[0m\u001b[1;33m]\u001b[0m\u001b[1;33m,\u001b[0m \u001b[0mrow_values\u001b[0m\u001b[1;33m[\u001b[0m\u001b[1;34m'ALI Latitude'\u001b[0m\u001b[1;33m]\u001b[0m\u001b[1;33m\u001b[0m\u001b[1;33m\u001b[0m\u001b[0m\n\u001b[0m\u001b[0;32m      7\u001b[0m     \u001b[0mpop\u001b[0m \u001b[1;33m=\u001b[0m \u001b[0mstr\u001b[0m\u001b[1;33m(\u001b[0m\u001b[0mrow_values\u001b[0m\u001b[1;33m[\u001b[0m\u001b[1;34m'CallTypeId'\u001b[0m\u001b[1;33m]\u001b[0m\u001b[1;33m)\u001b[0m\u001b[1;33m\u001b[0m\u001b[1;33m\u001b[0m\u001b[0m\n\u001b[0;32m      8\u001b[0m     \u001b[0micon\u001b[0m\u001b[1;33m=\u001b[0m\u001b[0mfolium\u001b[0m\u001b[1;33m.\u001b[0m\u001b[0mIcon\u001b[0m\u001b[1;33m(\u001b[0m\u001b[0mcolor\u001b[0m\u001b[1;33m=\u001b[0m\u001b[1;34m'red'\u001b[0m\u001b[1;33m,\u001b[0m\u001b[0micon\u001b[0m\u001b[1;33m=\u001b[0m\u001b[1;34m'bus'\u001b[0m\u001b[1;33m,\u001b[0m \u001b[0mprefix\u001b[0m\u001b[1;33m=\u001b[0m\u001b[1;34m'fa'\u001b[0m\u001b[1;33m)\u001b[0m\u001b[1;33m\u001b[0m\u001b[1;33m\u001b[0m\u001b[0m\n",
      "\u001b[1;31mTypeError\u001b[0m: 'int' object is not subscriptable"
     ]
    }
   ],
   "source": [
    "tornado_path_map = folium.Map(location =  area_center, zoom_start = 12)\n",
    "\n",
    "folium.GeoJson(path).add_to(tornado_path_map)\n",
    "\n",
    "for row_values, row_index in tornado_calls_geo.iterrows():\n",
    "    loc = row_values['ALI Latitude'], row_values['ALI Longitude']\n",
    "    pop = str(row_values['CallTypeId'])\n",
    "    icon=folium.Icon(color='red',icon='bus', prefix='fa')\n",
    "    \n",
    "    marker=folium.Marker(\n",
    "    location = loc,\n",
    "    popup = pop, icon = icon)\n",
    "\n",
    "tornado_path_map"
   ]
  },
  {
   "cell_type": "code",
   "execution_count": null,
   "id": "6f587995",
   "metadata": {},
   "outputs": [],
   "source": []
  },
  {
   "cell_type": "code",
   "execution_count": null,
   "id": "a227b8d7",
   "metadata": {},
   "outputs": [],
   "source": []
  },
  {
   "cell_type": "markdown",
   "id": "9da236ac",
   "metadata": {},
   "source": [
    "### path polygons geojson file"
   ]
  },
  {
   "cell_type": "code",
   "execution_count": 12,
   "id": "e5fa9620",
   "metadata": {},
   "outputs": [
    {
     "name": "stdout",
     "output_type": "stream",
     "text": [
      "epsg:4326\n"
     ]
    },
    {
     "data": {
      "text/html": [
       "<div>\n",
       "<style scoped>\n",
       "    .dataframe tbody tr th:only-of-type {\n",
       "        vertical-align: middle;\n",
       "    }\n",
       "\n",
       "    .dataframe tbody tr th {\n",
       "        vertical-align: top;\n",
       "    }\n",
       "\n",
       "    .dataframe thead th {\n",
       "        text-align: right;\n",
       "    }\n",
       "</style>\n",
       "<table border=\"1\" class=\"dataframe\">\n",
       "  <thead>\n",
       "    <tr style=\"text-align: right;\">\n",
       "      <th></th>\n",
       "      <th>efscale</th>\n",
       "      <th>geometry</th>\n",
       "    </tr>\n",
       "  </thead>\n",
       "  <tbody>\n",
       "    <tr>\n",
       "      <th>0</th>\n",
       "      <td>EF3</td>\n",
       "      <td>POLYGON ((-85.59922 36.17660, -85.59840 36.176...</td>\n",
       "    </tr>\n",
       "    <tr>\n",
       "      <th>1</th>\n",
       "      <td>EF1</td>\n",
       "      <td>POLYGON ((-85.52390 36.17189, -85.52430 36.171...</td>\n",
       "    </tr>\n",
       "    <tr>\n",
       "      <th>2</th>\n",
       "      <td>EF1</td>\n",
       "      <td>POLYGON ((-85.61527 36.17529, -85.61403 36.175...</td>\n",
       "    </tr>\n",
       "    <tr>\n",
       "      <th>3</th>\n",
       "      <td>EF3</td>\n",
       "      <td>POLYGON ((-85.55185 36.17398, -85.55184 36.173...</td>\n",
       "    </tr>\n",
       "    <tr>\n",
       "      <th>4</th>\n",
       "      <td>EF0</td>\n",
       "      <td>POLYGON ((-86.94788 36.17248, -86.94582 36.172...</td>\n",
       "    </tr>\n",
       "  </tbody>\n",
       "</table>\n",
       "</div>"
      ],
      "text/plain": [
       "  efscale                                           geometry\n",
       "0     EF3  POLYGON ((-85.59922 36.17660, -85.59840 36.176...\n",
       "1     EF1  POLYGON ((-85.52390 36.17189, -85.52430 36.171...\n",
       "2     EF1  POLYGON ((-85.61527 36.17529, -85.61403 36.175...\n",
       "3     EF3  POLYGON ((-85.55185 36.17398, -85.55184 36.173...\n",
       "4     EF0  POLYGON ((-86.94788 36.17248, -86.94582 36.172..."
      ]
     },
     "execution_count": 12,
     "metadata": {},
     "output_type": "execute_result"
    }
   ],
   "source": [
    "path = gpd.read_file('../data/path_polygons.geojson')\n",
    "print(path.crs)\n",
    "path.head()"
   ]
  },
  {
   "cell_type": "code",
   "execution_count": 13,
   "id": "b1e4b15c",
   "metadata": {
    "scrolled": true
   },
   "outputs": [
    {
     "data": {
      "text/plain": [
       "geopandas.geodataframe.GeoDataFrame"
      ]
     },
     "execution_count": 13,
     "metadata": {},
     "output_type": "execute_result"
    }
   ],
   "source": [
    "type(path)"
   ]
  },
  {
   "cell_type": "code",
   "execution_count": 14,
   "id": "85c87d36",
   "metadata": {},
   "outputs": [
    {
     "name": "stdout",
     "output_type": "stream",
     "text": [
      "<class 'geopandas.geodataframe.GeoDataFrame'>\n",
      "RangeIndex: 37 entries, 0 to 36\n",
      "Data columns (total 2 columns):\n",
      " #   Column    Non-Null Count  Dtype   \n",
      "---  ------    --------------  -----   \n",
      " 0   efscale   37 non-null     object  \n",
      " 1   geometry  37 non-null     geometry\n",
      "dtypes: geometry(1), object(1)\n",
      "memory usage: 720.0+ bytes\n"
     ]
    }
   ],
   "source": [
    "path.info()"
   ]
  },
  {
   "cell_type": "code",
   "execution_count": 15,
   "id": "1f07b3fc",
   "metadata": {},
   "outputs": [
    {
     "data": {
      "image/svg+xml": [
       "<svg xmlns=\"http://www.w3.org/2000/svg\" xmlns:xlink=\"http://www.w3.org/1999/xlink\" width=\"100.0\" height=\"100.0\" viewBox=\"-85.60077037112002 36.17336819287998 0.03792857724002374 0.005729152240036228\" preserveAspectRatio=\"xMinYMin meet\"><g transform=\"matrix(1,0,0,-1,0,72.35246553799999)\"><path fill-rule=\"evenodd\" fill=\"#66cc99\" stroke=\"#555555\" stroke-width=\"0.0007585715448004748\" opacity=\"0.6\" d=\"M -85.59922041599998,36.176601388999984 L -85.59840165700001,36.17614306799999 L -85.59562115400001,36.17617845400002 L -85.59215842999998,36.176415206 L -85.59041955100002,36.17671505599998 L -85.589666083,36.17666127799998 L -85.58923530099997,36.17649623 L -85.58804389199997,36.176469285999985 L -85.58644988200001,36.17638596299997 L -85.58590834400002,36.176189264000016 L -85.58560766800002,36.17603521799998 L -85.58513594200002,36.17608747899999 L -85.58479907700001,36.17623351999998 L -85.58451627800002,36.17636030699998 L -85.58420566799998,36.176302567 L -85.58404373500002,36.176059807 L -85.58367353800003,36.175822133999986 L -85.583260736,36.17567581100002 L -85.58276829800002,36.175862414 L -85.582469484,36.176022226999976 L -85.58159523299997,36.17626416799999 L -85.581028833,36.17635243400002 L -85.58050682800001,36.176257658 L -85.57996215499998,36.176099954999984 L -85.579476139,36.17595294400002 L -85.578305462,36.175898311000026 L -85.577550626,36.175834596000016 L -85.57677630799998,36.17572213400001 L -85.57603245299998,36.175704731 L -85.57519355800002,36.175804604 L -85.57446671000002,36.176099089 L -85.573863286,36.176120716000014 L -85.57278496599997,36.17603846600002 L -85.57202521800002,36.17585440800002 L -85.57168793599999,36.17553618199997 L -85.57114519700002,36.175312072 L -85.56986333499998,36.175246062999975 L -85.56864556900001,36.17531939999998 L -85.56815748499997,36.175230880000015 L -85.56761540999997,36.17497019899997 L -85.56654144499998,36.17484286400003 L -85.565357258,36.17477295499998 L -85.56438388499998,36.17498881900002 L -85.564246556,36.17517805099999 L -85.56438924899999,36.17536988 L -85.56491710799997,36.175619734 L -85.571333891,36.17625681499999 L -85.573913237,36.176290699 L -85.574667181,36.176456369 L -85.57527875,36.176692323 L -85.57564889499997,36.177188124 L -85.57614209600001,36.17747971799997 L -85.57645597099997,36.17759407300002 L -85.57672348099999,36.17749710800001 L -85.577190896,36.17723034300002 L -85.57815945099998,36.17693051499998 L -85.57890241500002,36.17682655700003 L -85.579878738,36.17689508199999 L -85.58061446800002,36.17714006 L -85.58093633300001,36.17748647000002 L -85.581188322,36.17764053600001 L -85.58142985900002,36.17769258300001 L -85.58230303900001,36.17753251 L -85.58265867,36.17731969099998 L -85.58420514099998,36.17718249500001 L -85.58533515599999,36.17712100699998 L -85.58561744399998,36.17705292599999 L -85.585890124,36.17691313400002 L -85.586354224,36.17694128900001 L -85.586801568,36.177144312999985 L -85.58745338300002,36.17730641100002 L -85.58803613999999,36.17730850200002 L -85.588457049,36.17718809500002 L -85.588968744,36.177157056 L -85.58929411000003,36.17730045000002 L -85.58973129700001,36.177477377 L -85.59006195799998,36.177382981 L -85.590608186,36.17712962799999 L -85.59113391800003,36.17698265500002 L -85.596106641,36.17662228900002 L -85.59777228399997,36.176630842 L -85.59860747599998,36.17681589199998 L -85.59936560900002,36.17702933200002 L -85.59922041599998,36.176601388999984 z\" /></g></svg>"
      ],
      "text/plain": [
       "<shapely.geometry.polygon.Polygon at 0x20fb4265910>"
      ]
     },
     "execution_count": 15,
     "metadata": {},
     "output_type": "execute_result"
    }
   ],
   "source": [
    "path.loc[0, 'geometry']"
   ]
  },
  {
   "cell_type": "code",
   "execution_count": 16,
   "id": "35e476c3",
   "metadata": {},
   "outputs": [
    {
     "data": {
      "image/png": "[encoded data removed]",
      "text/plain": [
       "<Figure size 432x288 with 1 Axes>"
      ]
     },
     "metadata": {
      "needs_background": "light"
     },
     "output_type": "display_data"
    }
   ],
   "source": [
    "path.plot();"
   ]
  },
  {
   "cell_type": "markdown",
   "id": "6ff461bf",
   "metadata": {},
   "source": [
    "### Derecho and Tornado Computer Aided Dispatch Data csv files"
   ]
  },
  {
   "cell_type": "markdown",
   "id": "765f94ba",
   "metadata": {},
   "source": [
    "#### derecho "
   ]
  },
  {
   "cell_type": "code",
   "execution_count": 35,
   "id": "56e713d4",
   "metadata": {},
   "outputs": [
    {
     "data": {
      "text/html": [
       "<div>\n",
       "<style scoped>\n",
       "    .dataframe tbody tr th:only-of-type {\n",
       "        vertical-align: middle;\n",
       "    }\n",
       "\n",
       "    .dataframe tbody tr th {\n",
       "        vertical-align: top;\n",
       "    }\n",
       "\n",
       "    .dataframe thead th {\n",
       "        text-align: right;\n",
       "    }\n",
       "</style>\n",
       "<table border=\"1\" class=\"dataframe\">\n",
       "  <thead>\n",
       "    <tr style=\"text-align: right;\">\n",
       "      <th></th>\n",
       "      <th>IncidentDate</th>\n",
       "      <th>Location</th>\n",
       "      <th>Latitude1</th>\n",
       "      <th>Longitude1</th>\n",
       "      <th>IncidentTypeDescription1</th>\n",
       "    </tr>\n",
       "  </thead>\n",
       "  <tbody>\n",
       "    <tr>\n",
       "      <th>0</th>\n",
       "      <td>5/3/2020 4:31:07 PM</td>\n",
       "      <td>901 KENWICK CT W</td>\n",
       "      <td>36.046877</td>\n",
       "      <td>-86.962526</td>\n",
       "      <td>ELECTRICAL HAZARD</td>\n",
       "    </tr>\n",
       "    <tr>\n",
       "      <th>1</th>\n",
       "      <td>5/3/2020 4:32:18 PM</td>\n",
       "      <td>8036 ARBOR DR</td>\n",
       "      <td>36.082491</td>\n",
       "      <td>-86.940680</td>\n",
       "      <td>ELECTRICAL HAZARD</td>\n",
       "    </tr>\n",
       "    <tr>\n",
       "      <th>2</th>\n",
       "      <td>5/3/2020 4:32:23 PM</td>\n",
       "      <td>119 DUE WEST AV E</td>\n",
       "      <td>36.248029</td>\n",
       "      <td>-86.716875</td>\n",
       "      <td>NOT ALERT COPD</td>\n",
       "    </tr>\n",
       "    <tr>\n",
       "      <th>3</th>\n",
       "      <td>5/3/2020 4:33:04 PM</td>\n",
       "      <td>630 GALLATIN PKE S</td>\n",
       "      <td>36.256491</td>\n",
       "      <td>-86.714817</td>\n",
       "      <td>ABDOMINAL PAIN</td>\n",
       "    </tr>\n",
       "    <tr>\n",
       "      <th>4</th>\n",
       "      <td>5/3/2020 4:33:52 PM</td>\n",
       "      <td>615 W HILLWOOD DR</td>\n",
       "      <td>36.129690</td>\n",
       "      <td>-86.879834</td>\n",
       "      <td>ELECTRICAL HAZARD</td>\n",
       "    </tr>\n",
       "  </tbody>\n",
       "</table>\n",
       "</div>"
      ],
      "text/plain": [
       "          IncidentDate            Location  Latitude1  Longitude1  \\\n",
       "0  5/3/2020 4:31:07 PM    901 KENWICK CT W  36.046877  -86.962526   \n",
       "1  5/3/2020 4:32:18 PM       8036 ARBOR DR  36.082491  -86.940680   \n",
       "2  5/3/2020 4:32:23 PM   119 DUE WEST AV E  36.248029  -86.716875   \n",
       "3  5/3/2020 4:33:04 PM  630 GALLATIN PKE S  36.256491  -86.714817   \n",
       "4  5/3/2020 4:33:52 PM   615 W HILLWOOD DR  36.129690  -86.879834   \n",
       "\n",
       "  IncidentTypeDescription1  \n",
       "0        ELECTRICAL HAZARD  \n",
       "1        ELECTRICAL HAZARD  \n",
       "2           NOT ALERT COPD  \n",
       "3           ABDOMINAL PAIN  \n",
       "4        ELECTRICAL HAZARD  "
      ]
     },
     "execution_count": 35,
     "metadata": {},
     "output_type": "execute_result"
    }
   ],
   "source": [
    "derecho_cadd = pd.read_csv('../data/Computer Aided Dispatch Data_Derecho Incidents 050320-050420.csv', skiprows = 3)\n",
    "tornado_cadd = pd.read_csv('../data/Computer Aided Dispatch Data_Tornado Incidents 030320.csv', skiprows = 3)\n",
    "derecho_cadd.head()"
   ]
  },
  {
   "cell_type": "code",
   "execution_count": 36,
   "id": "4d212fb1",
   "metadata": {},
   "outputs": [
    {
     "data": {
      "text/html": [
       "<div>\n",
       "<style scoped>\n",
       "    .dataframe tbody tr th:only-of-type {\n",
       "        vertical-align: middle;\n",
       "    }\n",
       "\n",
       "    .dataframe tbody tr th {\n",
       "        vertical-align: top;\n",
       "    }\n",
       "\n",
       "    .dataframe thead th {\n",
       "        text-align: right;\n",
       "    }\n",
       "</style>\n",
       "<table border=\"1\" class=\"dataframe\">\n",
       "  <thead>\n",
       "    <tr style=\"text-align: right;\">\n",
       "      <th></th>\n",
       "      <th>IncidentDate</th>\n",
       "      <th>Location</th>\n",
       "      <th>Latitude1</th>\n",
       "      <th>Longitude1</th>\n",
       "      <th>IncidentTypeDescription1</th>\n",
       "    </tr>\n",
       "  </thead>\n",
       "  <tbody>\n",
       "    <tr>\n",
       "      <th>622</th>\n",
       "      <td>5/4/2020 12:21:00 AM</td>\n",
       "      <td>625 BENTON AV</td>\n",
       "      <td>36.131384</td>\n",
       "      <td>-86.770628</td>\n",
       "      <td>HIGH RISE NATURAL GAS ODOR</td>\n",
       "    </tr>\n",
       "    <tr>\n",
       "      <th>623</th>\n",
       "      <td>5/4/2020 12:21:32 AM</td>\n",
       "      <td>518 BRENTLAWN DR</td>\n",
       "      <td>36.064362</td>\n",
       "      <td>-86.761199</td>\n",
       "      <td>UNKNOWN STATUS</td>\n",
       "    </tr>\n",
       "    <tr>\n",
       "      <th>624</th>\n",
       "      <td>5/4/2020 12:22:47 AM</td>\n",
       "      <td>517 ALBANY DR</td>\n",
       "      <td>36.212754</td>\n",
       "      <td>-86.600431</td>\n",
       "      <td>ELECTRICAL HAZARD</td>\n",
       "    </tr>\n",
       "    <tr>\n",
       "      <th>625</th>\n",
       "      <td>5/4/2020 12:27:52 AM</td>\n",
       "      <td>639 LAFAYETTE ST</td>\n",
       "      <td>36.153769</td>\n",
       "      <td>-86.777520</td>\n",
       "      <td>SICK PERSON: NO PRIORITY SYMPTOMS</td>\n",
       "    </tr>\n",
       "    <tr>\n",
       "      <th>626</th>\n",
       "      <td>5/4/2020 12:29:50 AM</td>\n",
       "      <td>2011 HAYES ST</td>\n",
       "      <td>36.151839</td>\n",
       "      <td>-86.800791</td>\n",
       "      <td>PULL STATION ALARM COMMERCIAL   INDUSTRIAL BUILD</td>\n",
       "    </tr>\n",
       "  </tbody>\n",
       "</table>\n",
       "</div>"
      ],
      "text/plain": [
       "             IncidentDate          Location  Latitude1  Longitude1  \\\n",
       "622  5/4/2020 12:21:00 AM     625 BENTON AV  36.131384  -86.770628   \n",
       "623  5/4/2020 12:21:32 AM  518 BRENTLAWN DR  36.064362  -86.761199   \n",
       "624  5/4/2020 12:22:47 AM     517 ALBANY DR  36.212754  -86.600431   \n",
       "625  5/4/2020 12:27:52 AM  639 LAFAYETTE ST  36.153769  -86.777520   \n",
       "626  5/4/2020 12:29:50 AM    2011 HAYES ST   36.151839  -86.800791   \n",
       "\n",
       "                             IncidentTypeDescription1  \n",
       "622                        HIGH RISE NATURAL GAS ODOR  \n",
       "623                                    UNKNOWN STATUS  \n",
       "624                                 ELECTRICAL HAZARD  \n",
       "625                 SICK PERSON: NO PRIORITY SYMPTOMS  \n",
       "626  PULL STATION ALARM COMMERCIAL   INDUSTRIAL BUILD  "
      ]
     },
     "execution_count": 36,
     "metadata": {},
     "output_type": "execute_result"
    }
   ],
   "source": [
    "derecho_cadd.tail()"
   ]
  },
  {
   "cell_type": "code",
   "execution_count": 37,
   "id": "4cd0c67e",
   "metadata": {},
   "outputs": [
    {
     "name": "stdout",
     "output_type": "stream",
     "text": [
      "<class 'pandas.core.frame.DataFrame'>\n",
      "RangeIndex: 627 entries, 0 to 626\n",
      "Data columns (total 5 columns):\n",
      " #   Column                    Non-Null Count  Dtype  \n",
      "---  ------                    --------------  -----  \n",
      " 0   IncidentDate              627 non-null    object \n",
      " 1   Location                  627 non-null    object \n",
      " 2   Latitude1                 627 non-null    float64\n",
      " 3   Longitude1                627 non-null    float64\n",
      " 4   IncidentTypeDescription1  627 non-null    object \n",
      "dtypes: float64(2), object(3)\n",
      "memory usage: 24.6+ KB\n"
     ]
    }
   ],
   "source": [
    "derecho_cadd.info()"
   ]
  },
  {
   "cell_type": "code",
   "execution_count": 38,
   "id": "8e573d2c",
   "metadata": {},
   "outputs": [
    {
     "data": {
      "text/plain": [
       "ELECTRICAL HAZARD                              370\n",
       "GENERAL ALARM COMMERCIAL   INDUSTRIAL BUILD     23\n",
       "MVA INJURIES:                                    8\n",
       "SMALL OUTSIDE FIRE                               6\n",
       "UNKNOWN STATUS:                                  6\n",
       "                                              ... \n",
       "OTHER PAIN                                       1\n",
       "DIZZINESS / VERTIGO                              1\n",
       "OVERDOSE - UNKNOWN STATUS                        1\n",
       "SMOKE DETECTOR ALARM APARTMENT                   1\n",
       "SICK PERSON: NO PRIORITY SYMPTOMS                1\n",
       "Name: IncidentTypeDescription1, Length: 122, dtype: int64"
      ]
     },
     "execution_count": 38,
     "metadata": {},
     "output_type": "execute_result"
    }
   ],
   "source": [
    "derecho_cadd['IncidentTypeDescription1'].value_counts()"
   ]
  },
  {
   "cell_type": "markdown",
   "id": "1b0c1643",
   "metadata": {},
   "source": [
    "#### tornado"
   ]
  },
  {
   "cell_type": "code",
   "execution_count": 39,
   "id": "72ed48a9",
   "metadata": {},
   "outputs": [
    {
     "data": {
      "text/html": [
       "<div>\n",
       "<style scoped>\n",
       "    .dataframe tbody tr th:only-of-type {\n",
       "        vertical-align: middle;\n",
       "    }\n",
       "\n",
       "    .dataframe tbody tr th {\n",
       "        vertical-align: top;\n",
       "    }\n",
       "\n",
       "    .dataframe thead th {\n",
       "        text-align: right;\n",
       "    }\n",
       "</style>\n",
       "<table border=\"1\" class=\"dataframe\">\n",
       "  <thead>\n",
       "    <tr style=\"text-align: right;\">\n",
       "      <th></th>\n",
       "      <th>IncidentDate</th>\n",
       "      <th>Location</th>\n",
       "      <th>Latitude1</th>\n",
       "      <th>Longitude1</th>\n",
       "      <th>IncidentTypeDescription1</th>\n",
       "    </tr>\n",
       "  </thead>\n",
       "  <tbody>\n",
       "    <tr>\n",
       "      <th>0</th>\n",
       "      <td>3/3/2020 12:36:34 AM</td>\n",
       "      <td>6205 COCKRILL BEND CIR</td>\n",
       "      <td>36.182002</td>\n",
       "      <td>-86.894052</td>\n",
       "      <td>GENERAL ALARM COMMERCIAL   INDUSTRIAL BUILD</td>\n",
       "    </tr>\n",
       "    <tr>\n",
       "      <th>1</th>\n",
       "      <td>3/3/2020 12:37:24 AM</td>\n",
       "      <td>7337 COCKRILL BEND BLVD</td>\n",
       "      <td>36.175666</td>\n",
       "      <td>-86.894978</td>\n",
       "      <td>GENERAL ALARM COMMERCIAL   INDUSTRIAL BUILD</td>\n",
       "    </tr>\n",
       "    <tr>\n",
       "      <th>2</th>\n",
       "      <td>3/3/2020 12:38:17 AM</td>\n",
       "      <td>110 TUNE AIRPORT DR</td>\n",
       "      <td>36.179299</td>\n",
       "      <td>-86.883727</td>\n",
       "      <td>STRUCTURE FIRE COMMERCIAL   INDUSTRIAL</td>\n",
       "    </tr>\n",
       "    <tr>\n",
       "      <th>3</th>\n",
       "      <td>3/3/2020 12:39:40 AM</td>\n",
       "      <td>555 MARRIOTT DR</td>\n",
       "      <td>36.151108</td>\n",
       "      <td>-86.689921</td>\n",
       "      <td>GENERAL ALARM COMMERCIAL   INDUSTRIAL BUILD</td>\n",
       "    </tr>\n",
       "    <tr>\n",
       "      <th>4</th>\n",
       "      <td>3/3/2020 12:39:42 AM</td>\n",
       "      <td>1414 COUNTY HOSPITAL RD</td>\n",
       "      <td>36.177926</td>\n",
       "      <td>-86.845934</td>\n",
       "      <td>GENERAL ALARM COMMERCIAL   INDUSTRIAL BUILD</td>\n",
       "    </tr>\n",
       "  </tbody>\n",
       "</table>\n",
       "</div>"
      ],
      "text/plain": [
       "           IncidentDate                  Location  Latitude1  Longitude1  \\\n",
       "0  3/3/2020 12:36:34 AM   6205 COCKRILL BEND CIR   36.182002  -86.894052   \n",
       "1  3/3/2020 12:37:24 AM  7337 COCKRILL BEND BLVD   36.175666  -86.894978   \n",
       "2  3/3/2020 12:38:17 AM      110 TUNE AIRPORT DR   36.179299  -86.883727   \n",
       "3  3/3/2020 12:39:40 AM          555 MARRIOTT DR   36.151108  -86.689921   \n",
       "4  3/3/2020 12:39:42 AM  1414 COUNTY HOSPITAL RD   36.177926  -86.845934   \n",
       "\n",
       "                      IncidentTypeDescription1  \n",
       "0  GENERAL ALARM COMMERCIAL   INDUSTRIAL BUILD  \n",
       "1  GENERAL ALARM COMMERCIAL   INDUSTRIAL BUILD  \n",
       "2       STRUCTURE FIRE COMMERCIAL   INDUSTRIAL  \n",
       "3  GENERAL ALARM COMMERCIAL   INDUSTRIAL BUILD  \n",
       "4  GENERAL ALARM COMMERCIAL   INDUSTRIAL BUILD  "
      ]
     },
     "execution_count": 39,
     "metadata": {},
     "output_type": "execute_result"
    }
   ],
   "source": [
    "tornado_cadd.head()"
   ]
  },
  {
   "cell_type": "code",
   "execution_count": 40,
   "id": "a63a9258",
   "metadata": {},
   "outputs": [
    {
     "data": {
      "text/html": [
       "<div>\n",
       "<style scoped>\n",
       "    .dataframe tbody tr th:only-of-type {\n",
       "        vertical-align: middle;\n",
       "    }\n",
       "\n",
       "    .dataframe tbody tr th {\n",
       "        vertical-align: top;\n",
       "    }\n",
       "\n",
       "    .dataframe thead th {\n",
       "        text-align: right;\n",
       "    }\n",
       "</style>\n",
       "<table border=\"1\" class=\"dataframe\">\n",
       "  <thead>\n",
       "    <tr style=\"text-align: right;\">\n",
       "      <th></th>\n",
       "      <th>IncidentDate</th>\n",
       "      <th>Location</th>\n",
       "      <th>Latitude1</th>\n",
       "      <th>Longitude1</th>\n",
       "      <th>IncidentTypeDescription1</th>\n",
       "    </tr>\n",
       "  </thead>\n",
       "  <tbody>\n",
       "    <tr>\n",
       "      <th>255</th>\n",
       "      <td>3/3/2020 4:53:43 AM</td>\n",
       "      <td>1616 23RD AV N</td>\n",
       "      <td>36.175739</td>\n",
       "      <td>-86.813173</td>\n",
       "      <td>WIRES DOWN WITH NO SMOKE OR ARCING POWER DISCO...</td>\n",
       "    </tr>\n",
       "    <tr>\n",
       "      <th>256</th>\n",
       "      <td>3/3/2020 4:56:56 AM</td>\n",
       "      <td>5610 OLD HICKORY BLVD</td>\n",
       "      <td>36.180487</td>\n",
       "      <td>-86.601466</td>\n",
       "      <td>LARGE BUILDING INVESTIGATION</td>\n",
       "    </tr>\n",
       "    <tr>\n",
       "      <th>257</th>\n",
       "      <td>3/3/2020 4:57:06 AM</td>\n",
       "      <td>2903 MORNINGSIDE DR</td>\n",
       "      <td>36.223554</td>\n",
       "      <td>-86.757949</td>\n",
       "      <td>CHEST PAIN - ABNORMAL BREATHING</td>\n",
       "    </tr>\n",
       "    <tr>\n",
       "      <th>258</th>\n",
       "      <td>3/3/2020 4:57:14 AM</td>\n",
       "      <td>1730 KELLOW ST</td>\n",
       "      <td>36.189445</td>\n",
       "      <td>-86.813466</td>\n",
       "      <td>ABNORMAL BREATHING OTHER LUNG PROBLEMS</td>\n",
       "    </tr>\n",
       "    <tr>\n",
       "      <th>259</th>\n",
       "      <td>3/3/2020 4:57:48 AM</td>\n",
       "      <td>I24 W / HICKORY HOLLOW PKWY</td>\n",
       "      <td>36.039720</td>\n",
       "      <td>-86.649099</td>\n",
       "      <td>UNKNOWN STATUS:</td>\n",
       "    </tr>\n",
       "  </tbody>\n",
       "</table>\n",
       "</div>"
      ],
      "text/plain": [
       "            IncidentDate                     Location  Latitude1  Longitude1  \\\n",
       "255  3/3/2020 4:53:43 AM               1616 23RD AV N  36.175739  -86.813173   \n",
       "256  3/3/2020 4:56:56 AM        5610 OLD HICKORY BLVD  36.180487  -86.601466   \n",
       "257  3/3/2020 4:57:06 AM          2903 MORNINGSIDE DR  36.223554  -86.757949   \n",
       "258  3/3/2020 4:57:14 AM               1730 KELLOW ST  36.189445  -86.813466   \n",
       "259  3/3/2020 4:57:48 AM  I24 W / HICKORY HOLLOW PKWY  36.039720  -86.649099   \n",
       "\n",
       "                              IncidentTypeDescription1  \n",
       "255  WIRES DOWN WITH NO SMOKE OR ARCING POWER DISCO...  \n",
       "256                       LARGE BUILDING INVESTIGATION  \n",
       "257                    CHEST PAIN - ABNORMAL BREATHING  \n",
       "258             ABNORMAL BREATHING OTHER LUNG PROBLEMS  \n",
       "259                                    UNKNOWN STATUS:  "
      ]
     },
     "execution_count": 40,
     "metadata": {},
     "output_type": "execute_result"
    }
   ],
   "source": [
    "tornado_cadd.tail()"
   ]
  },
  {
   "cell_type": "code",
   "execution_count": 41,
   "id": "2739d901",
   "metadata": {},
   "outputs": [
    {
     "name": "stdout",
     "output_type": "stream",
     "text": [
      "<class 'pandas.core.frame.DataFrame'>\n",
      "RangeIndex: 260 entries, 0 to 259\n",
      "Data columns (total 5 columns):\n",
      " #   Column                    Non-Null Count  Dtype  \n",
      "---  ------                    --------------  -----  \n",
      " 0   IncidentDate              260 non-null    object \n",
      " 1   Location                  260 non-null    object \n",
      " 2   Latitude1                 260 non-null    float64\n",
      " 3   Longitude1                260 non-null    float64\n",
      " 4   IncidentTypeDescription1  260 non-null    object \n",
      "dtypes: float64(2), object(3)\n",
      "memory usage: 10.3+ KB\n"
     ]
    }
   ],
   "source": [
    "tornado_cadd.info()"
   ]
  },
  {
   "cell_type": "code",
   "execution_count": 42,
   "id": "8a122d6c",
   "metadata": {},
   "outputs": [
    {
     "data": {
      "text/plain": [
       "GENERAL ALARM COMMERCIAL   INDUSTRIAL BUILD    27\n",
       "OUTSIDE ODOR                                   26\n",
       "WIRES DOWN WITH NO SMOKE OR ARCING             17\n",
       "SMALL BUILDING INVESTIGATION                   15\n",
       "ELECTRICAL HAZARD WITH OR NEAR WATER           12\n",
       "                                               ..\n",
       "WIRES DOWN WITH SMOKE OR ARCING                 1\n",
       "BACKUP STATION                                  1\n",
       "ENTRAPMENT UNKNOWN SITUATION                    1\n",
       "TRANSFORMER OUTSIDE  WIRE OR POLE               1\n",
       "UNKNOWN STATUS:                                 1\n",
       "Name: IncidentTypeDescription1, Length: 90, dtype: int64"
      ]
     },
     "execution_count": 42,
     "metadata": {},
     "output_type": "execute_result"
    }
   ],
   "source": [
    "tornado_cadd['IncidentTypeDescription1'].value_counts()"
   ]
  },
  {
   "cell_type": "code",
   "execution_count": 43,
   "id": "6474f016",
   "metadata": {},
   "outputs": [
    {
     "data": {
      "text/html": [
       "<div>\n",
       "<style scoped>\n",
       "    .dataframe tbody tr th:only-of-type {\n",
       "        vertical-align: middle;\n",
       "    }\n",
       "\n",
       "    .dataframe tbody tr th {\n",
       "        vertical-align: top;\n",
       "    }\n",
       "\n",
       "    .dataframe thead th {\n",
       "        text-align: right;\n",
       "    }\n",
       "</style>\n",
       "<table border=\"1\" class=\"dataframe\">\n",
       "  <thead>\n",
       "    <tr style=\"text-align: right;\">\n",
       "      <th></th>\n",
       "      <th>IncidentDate</th>\n",
       "      <th>Location</th>\n",
       "      <th>Latitude1</th>\n",
       "      <th>Longitude1</th>\n",
       "      <th>IncidentTypeDescription1</th>\n",
       "      <th>geometry</th>\n",
       "    </tr>\n",
       "  </thead>\n",
       "  <tbody>\n",
       "    <tr>\n",
       "      <th>0</th>\n",
       "      <td>3/3/2020 12:36:34 AM</td>\n",
       "      <td>6205 COCKRILL BEND CIR</td>\n",
       "      <td>36.182002</td>\n",
       "      <td>-86.894052</td>\n",
       "      <td>GENERAL ALARM COMMERCIAL   INDUSTRIAL BUILD</td>\n",
       "      <td>POINT (-86.89405212 36.18200191)</td>\n",
       "    </tr>\n",
       "    <tr>\n",
       "      <th>1</th>\n",
       "      <td>3/3/2020 12:37:24 AM</td>\n",
       "      <td>7337 COCKRILL BEND BLVD</td>\n",
       "      <td>36.175666</td>\n",
       "      <td>-86.894978</td>\n",
       "      <td>GENERAL ALARM COMMERCIAL   INDUSTRIAL BUILD</td>\n",
       "      <td>POINT (-86.89497756999999 36.175666)</td>\n",
       "    </tr>\n",
       "    <tr>\n",
       "      <th>2</th>\n",
       "      <td>3/3/2020 12:38:17 AM</td>\n",
       "      <td>110 TUNE AIRPORT DR</td>\n",
       "      <td>36.179299</td>\n",
       "      <td>-86.883727</td>\n",
       "      <td>STRUCTURE FIRE COMMERCIAL   INDUSTRIAL</td>\n",
       "      <td>POINT (-86.8837274 36.17929946)</td>\n",
       "    </tr>\n",
       "    <tr>\n",
       "      <th>3</th>\n",
       "      <td>3/3/2020 12:39:40 AM</td>\n",
       "      <td>555 MARRIOTT DR</td>\n",
       "      <td>36.151108</td>\n",
       "      <td>-86.689921</td>\n",
       "      <td>GENERAL ALARM COMMERCIAL   INDUSTRIAL BUILD</td>\n",
       "      <td>POINT (-86.6899214 36.1511077)</td>\n",
       "    </tr>\n",
       "    <tr>\n",
       "      <th>4</th>\n",
       "      <td>3/3/2020 12:39:42 AM</td>\n",
       "      <td>1414 COUNTY HOSPITAL RD</td>\n",
       "      <td>36.177926</td>\n",
       "      <td>-86.845934</td>\n",
       "      <td>GENERAL ALARM COMMERCIAL   INDUSTRIAL BUILD</td>\n",
       "      <td>POINT (-86.84593411 36.17792604)</td>\n",
       "    </tr>\n",
       "  </tbody>\n",
       "</table>\n",
       "</div>"
      ],
      "text/plain": [
       "           IncidentDate                  Location  Latitude1  Longitude1  \\\n",
       "0  3/3/2020 12:36:34 AM   6205 COCKRILL BEND CIR   36.182002  -86.894052   \n",
       "1  3/3/2020 12:37:24 AM  7337 COCKRILL BEND BLVD   36.175666  -86.894978   \n",
       "2  3/3/2020 12:38:17 AM      110 TUNE AIRPORT DR   36.179299  -86.883727   \n",
       "3  3/3/2020 12:39:40 AM          555 MARRIOTT DR   36.151108  -86.689921   \n",
       "4  3/3/2020 12:39:42 AM  1414 COUNTY HOSPITAL RD   36.177926  -86.845934   \n",
       "\n",
       "                      IncidentTypeDescription1  \\\n",
       "0  GENERAL ALARM COMMERCIAL   INDUSTRIAL BUILD   \n",
       "1  GENERAL ALARM COMMERCIAL   INDUSTRIAL BUILD   \n",
       "2       STRUCTURE FIRE COMMERCIAL   INDUSTRIAL   \n",
       "3  GENERAL ALARM COMMERCIAL   INDUSTRIAL BUILD   \n",
       "4  GENERAL ALARM COMMERCIAL   INDUSTRIAL BUILD   \n",
       "\n",
       "                               geometry  \n",
       "0      POINT (-86.89405212 36.18200191)  \n",
       "1  POINT (-86.89497756999999 36.175666)  \n",
       "2       POINT (-86.8837274 36.17929946)  \n",
       "3        POINT (-86.6899214 36.1511077)  \n",
       "4      POINT (-86.84593411 36.17792604)  "
      ]
     },
     "execution_count": 43,
     "metadata": {},
     "output_type": "execute_result"
    }
   ],
   "source": [
    "tornado_cadd['geometry'] = tornado_cadd.apply(lambda x: Point((float(x['Longitude1']),\n",
    "                                                               float(x['Latitude1']))),\n",
    "                                              axis=1)\n",
    "tornado_cadd.head()"
   ]
  },
  {
   "cell_type": "code",
   "execution_count": 44,
   "id": "639b6653",
   "metadata": {},
   "outputs": [
    {
     "name": "stdout",
     "output_type": "stream",
     "text": [
      "<class 'geopandas.geodataframe.GeoDataFrame'>\n",
      "RangeIndex: 260 entries, 0 to 259\n",
      "Data columns (total 6 columns):\n",
      " #   Column                    Non-Null Count  Dtype   \n",
      "---  ------                    --------------  -----   \n",
      " 0   IncidentDate              260 non-null    object  \n",
      " 1   Location                  260 non-null    object  \n",
      " 2   Latitude1                 260 non-null    float64 \n",
      " 3   Longitude1                260 non-null    float64 \n",
      " 4   IncidentTypeDescription1  260 non-null    object  \n",
      " 5   geometry                  260 non-null    geometry\n",
      "dtypes: float64(2), geometry(1), object(3)\n",
      "memory usage: 12.3+ KB\n"
     ]
    }
   ],
   "source": [
    "tornado_cadd_geo = gpd.GeoDataFrame(tornado_cadd,\n",
    "                                     crs = path.crs,\n",
    "                                     geometry = tornado_calls['geometry'])\n",
    "tornado_cadd_geo.info()"
   ]
  },
  {
   "cell_type": "code",
   "execution_count": 45,
   "id": "d783413a",
   "metadata": {},
   "outputs": [],
   "source": [
    "tornado_path_cadd = gpd.sjoin(tornado_cadd_geo, path, op = 'within')"
   ]
  },
  {
   "cell_type": "code",
   "execution_count": 46,
   "id": "8d843fe1",
   "metadata": {},
   "outputs": [
    {
     "data": {
      "image/png": "[encoded data removed]",
      "text/plain": [
       "<Figure size 576x720 with 1 Axes>"
      ]
     },
     "metadata": {
      "needs_background": "light"
     },
     "output_type": "display_data"
    }
   ],
   "source": [
    "ax = path.plot(figsize = (8, 10), color = 'lightgreen')\n",
    "tornado_path_cadd.plot( ax = ax, column = 'Location');"
   ]
  },
  {
   "cell_type": "code",
   "execution_count": 47,
   "id": "34d26597",
   "metadata": {},
   "outputs": [
    {
     "name": "stdout",
     "output_type": "stream",
     "text": [
      "index is 0\n",
      "values are:\n",
      " \n",
      "IncidentDate                                       3/3/2020 12:36:34 AM\n",
      "Location                                        6205 COCKRILL BEND CIR \n",
      "Latitude1                                                     36.182002\n",
      "Longitude1                                                   -86.894052\n",
      "IncidentTypeDescription1    GENERAL ALARM COMMERCIAL   INDUSTRIAL BUILD\n",
      "geometry                                   POINT (-86.665779 36.072708)\n",
      "Name: 0, dtype: object\n",
      "------------------------- \n",
      "index is 1\n",
      "values are:\n",
      " \n",
      "IncidentDate                                       3/3/2020 12:37:24 AM\n",
      "Location                                       7337 COCKRILL BEND BLVD \n",
      "Latitude1                                                     36.175666\n",
      "Longitude1                                                   -86.894978\n",
      "IncidentTypeDescription1    GENERAL ALARM COMMERCIAL   INDUSTRIAL BUILD\n",
      "geometry                                   POINT (-86.841904 36.159634)\n",
      "Name: 1, dtype: object\n",
      "------------------------- \n",
      "index is 2\n",
      "values are:\n",
      " \n",
      "IncidentDate                                  3/3/2020 12:38:17 AM\n",
      "Location                                      110 TUNE AIRPORT DR \n",
      "Latitude1                                                36.179299\n",
      "Longitude1                                              -86.883727\n",
      "IncidentTypeDescription1    STRUCTURE FIRE COMMERCIAL   INDUSTRIAL\n",
      "geometry                              POINT (-86.708862 36.264153)\n",
      "Name: 2, dtype: object\n",
      "------------------------- \n"
     ]
    }
   ],
   "source": [
    "i = 0\n",
    "for row_index, row_values in tornado_cadd_geo.iterrows():\n",
    "    if i <3: \n",
    "        print('index is', row_index)\n",
    "        print('values are:')\n",
    "        print(' ')\n",
    "        print(row_values)\n",
    "        print('------------------------- ')\n",
    "        i+=1"
   ]
  },
  {
   "cell_type": "code",
   "execution_count": 54,
   "id": "0a4c9535",
   "metadata": {},
   "outputs": [
    {
     "ename": "ValueError",
     "evalue": "Cannot render objects with any missing geometries: <folium.folium.Map object at 0x0000020FB451C580>",
     "output_type": "error",
     "traceback": [
      "\u001b[1;31m---------------------------------------------------------------------------\u001b[0m",
      "\u001b[1;31mValueError\u001b[0m                                Traceback (most recent call last)",
      "\u001b[1;32m~\\AppData\\Local\\Temp/ipykernel_33080/2834002905.py\u001b[0m in \u001b[0;36m<module>\u001b[1;34m\u001b[0m\n\u001b[0;32m      1\u001b[0m \u001b[0mtornado_path_map\u001b[0m \u001b[1;33m=\u001b[0m \u001b[0mfolium\u001b[0m\u001b[1;33m.\u001b[0m\u001b[0mMap\u001b[0m\u001b[1;33m(\u001b[0m\u001b[0mlocation\u001b[0m \u001b[1;33m=\u001b[0m  \u001b[0marea_center\u001b[0m\u001b[1;33m,\u001b[0m \u001b[0mzoom_start\u001b[0m \u001b[1;33m=\u001b[0m \u001b[1;36m12\u001b[0m\u001b[1;33m)\u001b[0m\u001b[1;33m\u001b[0m\u001b[1;33m\u001b[0m\u001b[0m\n\u001b[0;32m      2\u001b[0m \u001b[1;33m\u001b[0m\u001b[0m\n\u001b[1;32m----> 3\u001b[1;33m \u001b[0mfolium\u001b[0m\u001b[1;33m.\u001b[0m\u001b[0mGeoJson\u001b[0m\u001b[1;33m(\u001b[0m\u001b[0mtornado_path_cadd\u001b[0m\u001b[1;33m)\u001b[0m\u001b[1;33m.\u001b[0m\u001b[0madd_to\u001b[0m\u001b[1;33m(\u001b[0m\u001b[0mtornado_path_map\u001b[0m\u001b[1;33m)\u001b[0m\u001b[1;33m\u001b[0m\u001b[1;33m\u001b[0m\u001b[0m\n\u001b[0m\u001b[0;32m      4\u001b[0m \u001b[1;33m\u001b[0m\u001b[0m\n\u001b[0;32m      5\u001b[0m \u001b[1;32mfor\u001b[0m \u001b[0mrow_index\u001b[0m\u001b[1;33m,\u001b[0m \u001b[0mrow_values\u001b[0m \u001b[1;32min\u001b[0m \u001b[0mtornado_path_cadd\u001b[0m\u001b[1;33m.\u001b[0m\u001b[0miterrows\u001b[0m\u001b[1;33m(\u001b[0m\u001b[1;33m)\u001b[0m\u001b[1;33m:\u001b[0m\u001b[1;33m\u001b[0m\u001b[1;33m\u001b[0m\u001b[0m\n",
      "\u001b[1;32m~\\anaconda3\\envs\\geospatial\\lib\\site-packages\\folium\\features.py\u001b[0m in \u001b[0;36m__init__\u001b[1;34m(self, data, style_function, highlight_function, name, overlay, control, show, smooth_factor, tooltip, embed, popup)\u001b[0m\n\u001b[0;32m    451\u001b[0m         \u001b[0mself\u001b[0m\u001b[1;33m.\u001b[0m\u001b[0mhighlight\u001b[0m \u001b[1;33m=\u001b[0m \u001b[0mhighlight_function\u001b[0m \u001b[1;32mis\u001b[0m \u001b[1;32mnot\u001b[0m \u001b[1;32mNone\u001b[0m\u001b[1;33m\u001b[0m\u001b[1;33m\u001b[0m\u001b[0m\n\u001b[0;32m    452\u001b[0m \u001b[1;33m\u001b[0m\u001b[0m\n\u001b[1;32m--> 453\u001b[1;33m         \u001b[0mself\u001b[0m\u001b[1;33m.\u001b[0m\u001b[0mdata\u001b[0m \u001b[1;33m=\u001b[0m \u001b[0mself\u001b[0m\u001b[1;33m.\u001b[0m\u001b[0mprocess_data\u001b[0m\u001b[1;33m(\u001b[0m\u001b[0mdata\u001b[0m\u001b[1;33m)\u001b[0m\u001b[1;33m\u001b[0m\u001b[1;33m\u001b[0m\u001b[0m\n\u001b[0m\u001b[0;32m    454\u001b[0m \u001b[1;33m\u001b[0m\u001b[0m\n\u001b[0;32m    455\u001b[0m         \u001b[1;32mif\u001b[0m \u001b[0mself\u001b[0m\u001b[1;33m.\u001b[0m\u001b[0mstyle\u001b[0m \u001b[1;32mor\u001b[0m \u001b[0mself\u001b[0m\u001b[1;33m.\u001b[0m\u001b[0mhighlight\u001b[0m\u001b[1;33m:\u001b[0m\u001b[1;33m\u001b[0m\u001b[1;33m\u001b[0m\u001b[0m\n",
      "\u001b[1;32m~\\anaconda3\\envs\\geospatial\\lib\\site-packages\\folium\\features.py\u001b[0m in \u001b[0;36mprocess_data\u001b[1;34m(self, data)\u001b[0m\n\u001b[0;32m    496\u001b[0m             \u001b[1;32mreturn\u001b[0m \u001b[0mjson\u001b[0m\u001b[1;33m.\u001b[0m\u001b[0mloads\u001b[0m\u001b[1;33m(\u001b[0m\u001b[0mjson\u001b[0m\u001b[1;33m.\u001b[0m\u001b[0mdumps\u001b[0m\u001b[1;33m(\u001b[0m\u001b[0mdata\u001b[0m\u001b[1;33m.\u001b[0m\u001b[0m__geo_interface__\u001b[0m\u001b[1;33m)\u001b[0m\u001b[1;33m)\u001b[0m\u001b[1;33m\u001b[0m\u001b[1;33m\u001b[0m\u001b[0m\n\u001b[0;32m    497\u001b[0m         \u001b[1;32melse\u001b[0m\u001b[1;33m:\u001b[0m\u001b[1;33m\u001b[0m\u001b[1;33m\u001b[0m\u001b[0m\n\u001b[1;32m--> 498\u001b[1;33m             raise ValueError('Cannot render objects with any missing geometries'\n\u001b[0m\u001b[0;32m    499\u001b[0m                              ': {!r}'.format(data))\n\u001b[0;32m    500\u001b[0m \u001b[1;33m\u001b[0m\u001b[0m\n",
      "\u001b[1;31mValueError\u001b[0m: Cannot render objects with any missing geometries: <folium.folium.Map object at 0x0000020FB451C580>"
     ]
    }
   ],
   "source": [
    "tornado_path_map = folium.Map(location =  area_center, zoom_start = 12)\n",
    "\n",
    "folium.GeoJson(tornado_path_cadd).add_to(tornado_path_map)\n",
    "\n",
    "for row_index, row_values in tornado_path_cadd.iterrows():\n",
    "    loc = [row_values['Latitude1'], row_values['Longitude1']]\n",
    "    pop = str(row_values['Location'])\n",
    "    icon=folium.Icon(color=\"red\",icon=\"bus\", prefix='fa')\n",
    "    \n",
    "    marker = folium.Marker(\n",
    "        location = loc, \n",
    "        popup = pop, icon = icon)\n",
    "    "
   ]
  },
  {
   "cell_type": "code",
   "execution_count": null,
   "id": "6b189dfd",
   "metadata": {},
   "outputs": [],
   "source": []
  }
 ],
 "metadata": {
  "kernelspec": {
   "display_name": "Python 3 (ipykernel)",
   "language": "python",
   "name": "python3"
  },
  "language_info": {
   "codemirror_mode": {
    "name": "ipython",
    "version": 3
   },
   "file_extension": ".py",
   "mimetype": "text/x-python",
   "name": "python",
   "nbconvert_exporter": "python",
   "pygments_lexer": "ipython3",
   "version": "3.8.5"
  }
 },
 "nbformat": 4,
 "nbformat_minor": 5
}
